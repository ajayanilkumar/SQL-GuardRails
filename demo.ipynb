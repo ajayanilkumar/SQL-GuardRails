{
 "cells": [
  {
   "cell_type": "code",
   "execution_count": 1,
   "metadata": {},
   "outputs": [
    {
     "name": "stderr",
     "output_type": "stream",
     "text": [
      "/Users/ajay.kumar/Downloads/SQLRails/.venv/lib/python3.11/site-packages/tqdm/auto.py:21: TqdmWarning: IProgress not found. Please update jupyter and ipywidgets. See https://ipywidgets.readthedocs.io/en/stable/user_install.html\n",
      "  from .autonotebook import tqdm as notebook_tqdm\n"
     ]
    }
   ],
   "source": [
    "from sql_guardrail import SQLRail\n",
    "from sql_guardrail import LevenshteinDistance, JaroWinklerSimilarity"
   ]
  },
  {
   "cell_type": "code",
   "execution_count": null,
   "metadata": {},
   "outputs": [],
   "source": [
    "from sql_guardrail.utils.data_loader_utils import load_reference_data_from_json\n",
    "\n",
    "# Load a specific reference file\n",
    "browser_values = load_reference_data_from_json({\"path\": \"browser_values.json\"})\n",
    "\n",
    "# Initialize SQLRail with this reference data\n",
    "guardrail = SQLRail(\n",
    "    distance_calculators=[LevenshteinDistance(), JaroWinklerSimilarity()],\n",
    "    preloaded_references={\"browser\": browser_values}\n",
    ")"
   ]
  },
  {
   "cell_type": "code",
   "execution_count": 5,
   "metadata": {},
   "outputs": [
    {
     "data": {
      "text/plain": [
       "GuardRailAnalysisResult(original_query=\"SELECT * FROM table WHERE browser = 'Google Chrome'\", analyzed_conditions=[WhereClauseConditionAnalysis(column_name='browser', operator='=', raw_value_in_query=\"'Google Chrome'\", analyses_by_metric=[DistanceMetricAnalysis(metric_name='LevenshteinDistance', query_parameter_value='Google Chrome', suggestions=[MatchSuggestion(suggested_value='Chrome', similarity_score=0.46153846153846156), MatchSuggestion(suggested_value='Pale Moon', similarity_score=0.3076923076923077)]), DistanceMetricAnalysis(metric_name='JaroWinklerSimilarity', query_parameter_value='Google Chrome', suggestions=[MatchSuggestion(suggested_value='Coc Coc Browser', similarity_score=0.6207570207570208), MatchSuggestion(suggested_value='webOS Browser', similarity_score=0.5897435897435898)])])], warnings=None)"
      ]
     },
     "execution_count": 5,
     "metadata": {},
     "output_type": "execute_result"
    }
   ],
   "source": [
    "guardrail.analyze_query(\n",
    "    sql_query=\"SELECT * FROM table WHERE browser = 'Google Chrome'\",\n",
    "    k=2\n",
    ")"
   ]
  },
  {
   "cell_type": "code",
   "execution_count": 9,
   "metadata": {},
   "outputs": [],
   "source": [
    "country_values = load_reference_data_from_json({\"path\": \"/Users/ajay.kumar/Desktop/Cardinal-Values/country_values.json\"})\n",
    "vertical_values = load_reference_data_from_json({\"path\": \"/Users/ajay.kumar/Desktop/Cardinal-Values/vertical_values.json\"})\n",
    "\n",
    "\n",
    "# Initialize SQLRail with this reference data\n",
    "guardrail = SQLRail(\n",
    "    distance_calculators=[LevenshteinDistance(), JaroWinklerSimilarity()],\n",
    "    preloaded_references={\"country\": country_values, \"vertical\": vertical_values}\n",
    ")"
   ]
  },
  {
   "cell_type": "code",
   "execution_count": 7,
   "metadata": {},
   "outputs": [
    {
     "data": {
      "text/plain": [
       "GuardRailAnalysisResult(original_query=\"SELECT * FROM table WHERE country = 'UK'\", analyzed_conditions=[WhereClauseConditionAnalysis(column_name='country', operator='=', raw_value_in_query=\"'UK'\", analyses_by_metric=[DistanceMetricAnalysis(metric_name='LevenshteinDistance', query_parameter_value='UK', suggestions=[MatchSuggestion(suggested_value='Uganda', similarity_score=0.16666666666666663), MatchSuggestion(suggested_value='Ukraine', similarity_score=0.1428571428571429)]), DistanceMetricAnalysis(metric_name='JaroWinklerSimilarity', query_parameter_value='UK', suggestions=[MatchSuggestion(suggested_value='United Kingdom', similarity_score=0.7428571428571429), MatchSuggestion(suggested_value='Kenya', similarity_score=0.5666666666666667)])])], warnings=None)"
      ]
     },
     "execution_count": 7,
     "metadata": {},
     "output_type": "execute_result"
    }
   ],
   "source": [
    "guardrail.analyze_query(\n",
    "    sql_query=\"SELECT * FROM table WHERE country = 'UK'\",\n",
    "    k=2\n",
    ")"
   ]
  },
  {
   "cell_type": "code",
   "execution_count": 10,
   "metadata": {},
   "outputs": [
    {
     "data": {
      "text/plain": [
       "GuardRailAnalysisResult(original_query=\"SELECT creative_type, SUM(impressions) AS total_impressions, SUM(clicks) AS total_clicks, SUM(conversions) AS total_conversions, SUM(total_media_cost) AS total_cost, SUM(total_revenue) AS total_revenue FROM concentrated_data_cube WHERE vertical = 'retail' AND country = 'UK' GROUP BY creative_type LIMIT 80\", analyzed_conditions=[WhereClauseConditionAnalysis(column_name='vertical', operator='=', raw_value_in_query=\"'retail'\", analyses_by_metric=[DistanceMetricAnalysis(metric_name='LevenshteinDistance', query_parameter_value='retail', suggestions=[MatchSuggestion(suggested_value='Retail & eTail', similarity_score=0.3571428571428571), MatchSuggestion(suggested_value='Pharmaceutical', similarity_score=0.2857142857142857)]), DistanceMetricAnalysis(metric_name='JaroWinklerSimilarity', query_parameter_value='retail', suggestions=[MatchSuggestion(suggested_value='Retail & eTail', similarity_score=0.7301587301587302), MatchSuggestion(suggested_value='Entertainment & News', similarity_score=0.6277777777777779)])]), WhereClauseConditionAnalysis(column_name='country', operator='=', raw_value_in_query=\"'UK'\", analyses_by_metric=[DistanceMetricAnalysis(metric_name='LevenshteinDistance', query_parameter_value='UK', suggestions=[MatchSuggestion(suggested_value='Uganda', similarity_score=0.16666666666666663), MatchSuggestion(suggested_value='Ukraine', similarity_score=0.1428571428571429)]), DistanceMetricAnalysis(metric_name='JaroWinklerSimilarity', query_parameter_value='UK', suggestions=[MatchSuggestion(suggested_value='United Kingdom', similarity_score=0.7428571428571429), MatchSuggestion(suggested_value='Kenya', similarity_score=0.5666666666666667)])])], warnings=None)"
      ]
     },
     "execution_count": 10,
     "metadata": {},
     "output_type": "execute_result"
    }
   ],
   "source": [
    "guardrail.analyze_query(\n",
    "    sql_query=\"SELECT creative_type, SUM(impressions) AS total_impressions, SUM(clicks) AS total_clicks, SUM(conversions) AS total_conversions, SUM(total_media_cost) AS total_cost, SUM(total_revenue) AS total_revenue FROM concentrated_data_cube WHERE vertical = 'retail' AND country = 'UK' GROUP BY creative_type LIMIT 80\",\n",
    "    k=2\n",
    ")"
   ]
  },
  {
   "cell_type": "code",
   "execution_count": 12,
   "metadata": {},
   "outputs": [
    {
     "data": {
      "text/plain": [
       "GuardRailAnalysisResult(original_query=\"SELECT\\n    creative_type,\\n    SUM(impressions) AS total_impressions,\\nFROM\\n    concentrated_data_cube\\nWHERE\\n    country IN ('UK', 'US')\\nGROUP BY\\n    creative_type\\nLIMIT 80;\", analyzed_conditions=[], warnings=['No relevant WHERE clause conditions found or SQL parsing failed.'])"
      ]
     },
     "execution_count": 12,
     "metadata": {},
     "output_type": "execute_result"
    }
   ],
   "source": [
    "guardrail.analyze_query(\n",
    "    sql_query=\"\"\"SELECT\n",
    "    creative_type,\n",
    "    SUM(impressions) AS total_impressions,\n",
    "FROM\n",
    "    concentrated_data_cube\n",
    "WHERE\n",
    "    country IN ('UK', 'US')\n",
    "GROUP BY\n",
    "    creative_type\n",
    "LIMIT 80;\"\"\",\n",
    "    k=2\n",
    ")"
   ]
  },
  {
   "cell_type": "code",
   "execution_count": null,
   "metadata": {},
   "outputs": [],
   "source": []
  }
 ],
 "metadata": {
  "kernelspec": {
   "display_name": ".venv",
   "language": "python",
   "name": "python3"
  },
  "language_info": {
   "codemirror_mode": {
    "name": "ipython",
    "version": 3
   },
   "file_extension": ".py",
   "mimetype": "text/x-python",
   "name": "python",
   "nbconvert_exporter": "python",
   "pygments_lexer": "ipython3",
   "version": "3.11.12"
  }
 },
 "nbformat": 4,
 "nbformat_minor": 2
}
